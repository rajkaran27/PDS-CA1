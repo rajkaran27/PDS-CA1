{
 "cells": [
  {
   "attachments": {},
   "cell_type": "markdown",
   "metadata": {},
   "source": [
    "<h1>M.Rajkaran</h1>\n",
    "<h1>2109039</h1>"
   ]
  },
  {
   "attachments": {},
   "cell_type": "markdown",
   "metadata": {},
   "source": [
    "<h4>Title of data analysis:</h4>\n",
    "<h3>What is the best room type and town to buy a house in recent years?</h3>"
   ]
  },
  {
   "cell_type": "code",
   "execution_count": 4,
   "metadata": {},
   "outputs": [],
   "source": [
    "import numpy as np\n",
    "import matplotlib.pyplot as plt\n",
    "from tabulate import tabulate"
   ]
  },
  {
   "attachments": {},
   "cell_type": "markdown",
   "metadata": {},
   "source": [
    "<p>importing necessary packages</p>"
   ]
  },
  {
   "cell_type": "code",
   "execution_count": 5,
   "metadata": {},
   "outputs": [],
   "source": [
    "data_resale_flat_prices = np.genfromtxt('./Datasets/resale-flat-prices-based-on-registration-date-from-jan-2017-onwards.csv', delimiter=',', dtype=[\n",
    "                                        'datetime64[M]', 'U20', 'U20', 'U5', 'U45', 'U30', int, 'U30', 'datetime64[Y]', 'U30', int], names=True)\n",
    "\n",
    "data_median_rent = np.genfromtxt('./Datasets/median-rent-by-town-and-flat-type.csv',\n",
    "                                 delimiter=',', dtype=['U30', 'U30', 'U10', int], names=True)\n"
   ]
  },
  {
   "attachments": {},
   "cell_type": "markdown",
   "metadata": {},
   "source": [
    "<p>reading csv files and storing them into a variable</p>"
   ]
  },
  {
   "cell_type": "code",
   "execution_count": 6,
   "metadata": {},
   "outputs": [],
   "source": [
    "# print(\"**This is the resale flat prices dataset**\")\n",
    "# print(f'There are {len(data_resale_flat_prices)} rows of data in the reslae flat prices dataset.')\n",
    "# #print(f'There are {len(np.unique(data_resale_flat_prices[\"month\"]))} years of data in this dataset from {np.min(data_resale_flat_prices[\"month\"])} to {np.max(data_resale_flat_prices[\"month\"])}.')\n",
    "# print(f'There are {len(np.unique(data_resale_flat_prices[\"flat_type\"]))} flat types in this dataset.')\n",
    "# print(f'There are {len(np.unique(data_resale_flat_prices[\"town\"]))} towns in this dataset.')\n",
    "# print()\n",
    "\n",
    "# mg = data_resale_flat_prices['flat_type']=='MULTI-GENERATION'\n",
    "# print(f'The average price of a Multi-Generation flat is {round(np.mean(data_resale_flat_prices[mg][\"resale_price\"]),2)} SGD.')\n",
    "# print()\n",
    "\n",
    "# executive = data_resale_flat_prices['flat_type']=='EXECUTIVE'\n",
    "# print(f'The average price of an Executive flat is {round(np.mean(data_resale_flat_prices[executive][\"resale_price\"]),2)} SGD.')\n",
    "# print()\n",
    "\n",
    "# room_5 = data_resale_flat_prices['flat_type']=='5 ROOM'\n",
    "# print(f'The average price of a 5 Room flat is {round(np.mean(data_resale_flat_prices[room_5][\"resale_price\"]),2)} SGD.')\n",
    "# print()\n",
    "\n",
    "# room_4 = data_resale_flat_prices['flat_type']=='4 ROOM'\n",
    "# print(f'The average price of a 4 Room flat is {round(np.mean(data_resale_flat_prices[room_4][\"resale_price\"]),2)} SGD.')\n",
    "# print()\n",
    "\n",
    "# room_3 = data_resale_flat_prices['flat_type']=='3 ROOM'\n",
    "# print(f'The average price of a 3 Room flat is {round(np.mean(data_resale_flat_prices[room_3][\"resale_price\"]),2)} SGD.')\n",
    "# print()\n",
    "\n",
    "# room_2 = data_resale_flat_prices['flat_type']=='2 ROOM'\n",
    "# print(f'The average price of a 2 Room flat is {round(np.mean(data_resale_flat_prices[room_2][\"resale_price\"]),2)} SGD.')\n",
    "# print()\n",
    "\n",
    "# room_1 = data_resale_flat_prices['flat_type']=='1 ROOM'\n",
    "# print(f'The average price of a 1 Room flat is {round(np.mean(data_resale_flat_prices[room_1][\"resale_price\"]),2)} SGD.')\n"
   ]
  },
  {
   "cell_type": "code",
   "execution_count": 7,
   "metadata": {},
   "outputs": [],
   "source": [
    "# print(\"**This is the median rent by town dataset**\")\n",
    "# print(f'There are {len(data_median_rent)} rows of data in this dataset.')\n",
    "# print(f'There are {len(np.unique(data_median_rent[\"town\"]))} towns in this dataset.')\n",
    "# print(\"This dataset will be used to compare the different rental prices across towns and flat types.\")\n"
   ]
  },
  {
   "cell_type": "code",
   "execution_count": 8,
   "metadata": {},
   "outputs": [],
   "source": [
    "# print(data_hdb_property[(data_hdb_property['residential'] == \"Y\") & (data_hdb_property['commercial'] == \"Y\") & (data_hdb_property['market_hawker'] == \"Y\")])"
   ]
  },
  {
   "cell_type": "code",
   "execution_count": 9,
   "metadata": {},
   "outputs": [],
   "source": [
    "# # Extract flat types and resale prices\n",
    "# flat_types = np.unique(data_resale_flat_prices['flat_type'])\n",
    "# resale_prices = np.zeros(len(flat_types))\n",
    "# for i in range(len(flat_types)):\n",
    "#     resale_prices[i] = np.mean(data_resale_flat_prices['resale_price'][data_resale_flat_prices['flat_type'] == flat_types[i]])\n",
    "\n",
    "# # Plotting the graph\n",
    "# plt.figure(figsize=(10, 4))\n",
    "# plt.bar(flat_types, resale_prices)\n",
    "# plt.xlabel('Flat Type')\n",
    "# plt.ylabel('Average Resale Price')\n",
    "# plt.title('Distribution of Resale Prices Across Different Flat Types')\n",
    "# plt.xticks(rotation=45)\n",
    "# plt.show()"
   ]
  },
  {
   "attachments": {},
   "cell_type": "markdown",
   "metadata": {},
   "source": [
    "<p>Which flat type has the most sales?</p>"
   ]
  },
  {
   "cell_type": "code",
   "execution_count": 10,
   "metadata": {},
   "outputs": [],
   "source": [
    "# count_1_room = np.sum(data_resale_flat_prices['flat_type']=='1 ROOM')\n",
    "# count_2_room = np.sum(data_resale_flat_prices['flat_type']=='2 ROOM')\n",
    "# count_3_room = np.sum(data_resale_flat_prices['flat_type']=='3 ROOM')\n",
    "# count_4_room = np.sum(data_resale_flat_prices['flat_type']=='4 ROOM')\n",
    "# count_5_room = np.sum(data_resale_flat_prices['flat_type']=='5 ROOM')\n",
    "# count_executive = np.sum(data_resale_flat_prices['flat_type']=='EXECUTIVE')\n",
    "# count_mg = np.sum(data_resale_flat_prices['flat_type']=='MULTI-GENERATION')\n",
    "\n",
    "# sizes = [count_1_room, count_2_room, count_3_room, count_4_room, count_5_room, count_executive, count_mg]\n",
    "# labels = np.unique(data_resale_flat_prices['flat_type'])\n",
    "# explode =(0,0,0,0.1,0,0,0)\n",
    "\n",
    "\n",
    "# fig1,ax1 = plt.subplots(figsize=(8,8),facecolor='white')\n",
    "# ax1.pie(sizes,explode=explode, labels=labels,shadow=True, autopct='%1.1f%%',textprops={'fontsize': 14})\n",
    "# plt.title(\"Distribution of Flat Types\",fontsize=20)\n",
    "# plt.show()"
   ]
  },
  {
   "attachments": {},
   "cell_type": "markdown",
   "metadata": {},
   "source": [
    "<p>More 4 Room flats are sold compared to other flat types.</p>"
   ]
  },
  {
   "cell_type": "code",
   "execution_count": 11,
   "metadata": {},
   "outputs": [
    {
     "data": {
      "image/png": "[encoded data removed]",
      "text/plain": [
       "<Figure size 720x576 with 1 Axes>"
      ]
     },
     "metadata": {
      "needs_background": "light"
     },
     "output_type": "display_data"
    }
   ],
   "source": [
    "room_4 = data_resale_flat_prices[data_resale_flat_prices['flat_type']=='4 ROOM']\n",
    "\n",
    "sqm = room_4['floor_area_sqm']\n",
    "\n",
    "plt.figure(figsize=(10,8))\n",
    "plt.hist(sqm, bins=20,edgecolor='black')\n",
    "plt.xlabel('Floor Area (sqm)')\n",
    "plt.ylabel('Frequency')\n",
    "plt.grid(color=\"gray\",alpha=0.4)\n",
    "plt.show()"
   ]
  },
  {
   "attachments": {},
   "cell_type": "markdown",
   "metadata": {},
   "source": [
    "<p>More than 17500 4 room flats with a floor area of 90-100 sqm were sold.</p>"
   ]
  },
  {
   "cell_type": "code",
   "execution_count": 12,
   "metadata": {},
   "outputs": [],
   "source": [
    "# print(np.unique(room_4['flat_model']))\n",
    "\n",
    "# # plot a bar chart with the average price of each flat model\n",
    "# flat_model = np.unique(room_4['flat_model'])\n",
    "# avg_price = []\n",
    "# for model in flat_model:\n",
    "#     avg_price.append(np.mean(room_4[room_4['flat_model']==model]['resale_price']))\n",
    "\n",
    "# plt.figure(figsize=(10,5))\n",
    "# plt.bar(flat_model,avg_price)\n",
    "# plt.title(\"Average Price of 4 Room Flats by Flat Model\",fontsize=20)\n",
    "# plt.xticks(rotation=90)\n",
    "# plt.xlabel('Flat Model')\n",
    "# plt.ylabel('Average Price (SGD)')\n",
    "# plt.grid(color=\"gray\",alpha=0.4)\n",
    "# plt.show()"
   ]
  },
  {
   "attachments": {},
   "cell_type": "markdown",
   "metadata": {},
   "source": [
    "<p>The 1e6 means 1000000.<br>From this bar chart, we can see that the 'Model A2' flat model is the cheapest among the other flat models.<br>It's average price is just below 400000 SGD.</p>"
   ]
  },
  {
   "cell_type": "code",
   "execution_count": 13,
   "metadata": {},
   "outputs": [],
   "source": [
    "# towns = np.unique(room_4['town'])\n",
    "# average_price = []\n",
    "\n",
    "# for town in towns:\n",
    "#     average_price.append(np.mean(room_4[room_4['town']==town]['resale_price']))\n",
    "\n",
    "# plt.figure(figsize=(10,5))\n",
    "# plt.bar(towns,average_price)\n",
    "# plt.title(\"Average prices of 4 room flats across different towns\")\n",
    "# plt.xticks(rotation=90)\n",
    "# plt.xlabel('Towns')\n",
    "# plt.ylabel('Average Price (SGD)')\n",
    "# plt.grid(color=\"gray\",alpha=0.4)\n",
    "# plt.show()\n"
   ]
  },
  {
   "attachments": {},
   "cell_type": "markdown",
   "metadata": {},
   "source": [
    "<p>This bar graph displays the average prices of 4 room flats across different towns in Singapore.<br>We can see that the town with the cheapest flat is Woodlands, with its average price right below 400000 SGD.<br> The most expensive town is stated as Central Area, which is close to 800000 SGD. Followed by that is Queenstown, which is around 750000 SGD.<br> The difference between the cheapest and most expensive town is around 400000 SGD.<br>As Central Area is not a town, we will be using Queenstown to find out why flat and rent prices are priced differently.</p>"
   ]
  },
  {
   "cell_type": "code",
   "execution_count": 14,
   "metadata": {},
   "outputs": [],
   "source": [
    "# queenstown_rent = data_median_rent[(data_median_rent['town'] == 'QUEENSTOWN') & (\n",
    "#     data_median_rent['flat_type'] == '4-RM')]\n",
    "# woodlands_rent = data_median_rent[(data_median_rent['town'] == 'WOODLANDS') & (\n",
    "#     data_median_rent['flat_type'] == '4-RM')]\n",
    "\n",
    "# print(\n",
    "#     f'The average monthly rental cost of a 4 room flat in Queenstown is {round(np.mean(queenstown_rent[\"median_rent\"]),2)}SGD')\n",
    "# print(\n",
    "#     f'The average monthly rental cost of a 4 room flat in Woodlands is {round(np.mean(woodlands_rent[\"median_rent\"]),2)}SGD')\n",
    "# print(\n",
    "#     f'The difference in price is {round((np.mean( queenstown_rent[\"median_rent\"]-woodlands_rent[\"median_rent\"] )),2)}SGD')\n"
   ]
  },
  {
   "cell_type": "code",
   "execution_count": 15,
   "metadata": {},
   "outputs": [],
   "source": [
    "# lease_commence_date = np.unique(data_resale_flat_prices['lease_commence_date'])\n",
    "# avg_price = []\n",
    "# for date in lease_commence_date:\n",
    "#     avg_price.append(np.mean(data_resale_flat_prices[data_resale_flat_prices['lease_commence_date']==date]['resale_price']))\n",
    "\n",
    "# plt.figure(figsize=(10,5))\n",
    "# plt.plot(lease_commence_date,avg_price)\n",
    "# plt.title(\"Average Price of Resale Flats by Lease Commence Date\",fontsize=20)\n",
    "# plt.xticks(rotation=90)\n",
    "# plt.xlabel('Lease Commence Date')\n",
    "# plt.ylabel('Average Price (SGD)')\n",
    "# plt.grid(color=\"gray\",alpha=0.4)\n",
    "# plt.show()\n"
   ]
  },
  {
   "cell_type": "code",
   "execution_count": 16,
   "metadata": {},
   "outputs": [
    {
     "data": {
      "image/png": "[encoded data removed]",
      "text/plain": [
       "<Figure size 432x288 with 1 Axes>"
      ]
     },
     "metadata": {
      "needs_background": "light"
     },
     "output_type": "display_data"
    }
   ],
   "source": [
    "data_4 = data_resale_flat_prices[data_resale_flat_prices['flat_type'] == '4 ROOM']\n",
    "sqm = data_4['floor_area_sqm']\n",
    "resale_price = data_4['resale_price']\n",
    "\n",
    "a,b = np.polyfit(sqm, resale_price, 1)\n",
    "plt.scatter(sqm, resale_price,s=1)\n",
    "plt.plot(sqm, a*sqm+b, color='red')\n",
    "plt.ylim(120000, 1450000)\n",
    "plt.title('Resale Price vs Floor Area for 4 Room Flats')\n",
    "plt.xlabel('Floor Area (sqm)')\n",
    "plt.ylabel('Resale Price ($)')\n",
    "plt.show()"
   ]
  },
  {
   "attachments": {},
   "cell_type": "markdown",
   "metadata": {},
   "source": [
    "### Which of these cheapest towns have the higher median rental prices?"
   ]
  },
  {
   "cell_type": "code",
   "execution_count": 17,
   "metadata": {},
   "outputs": [],
   "source": [
    "\n",
    "# room_4_rental = data_median_rent[data_median_rent['flat_type'] == '4-RM']\n",
    "\n",
    "# towns = [\"WOODLANDS\", \"YISHUN\", \"SEMBAWANG\", \"JURONG WEST\", \"CHOA CHU KANG\", \"BUKIT PANJANG\", \"BUKIT BATOK\"]\n",
    "# cheapest_towns = []\n",
    "\n",
    "# for town in towns:\n",
    "#     cheapest_towns.append(np.unique(data_median_rent[data_median_rent['town'] == town]['town']))\n",
    "\n",
    "# # chatgpt Extract the town names from the numpy arrays\n",
    "# cheapest_towns = [town[0] for town in cheapest_towns]\n",
    "\n",
    "# # get the rental prices of the respective towns\n",
    "# rental_price=[]\n",
    "\n",
    "# for town in cheapest_towns:\n",
    "#     rental_price.append(room_4_rental[room_4_rental['town'] == town]['median_rent'])\n",
    "\n",
    "\n",
    "# # plot the boxplot\n",
    "# plt.figure(figsize=(10,6))\n",
    "# plt.boxplot(rental_price,labels=cheapest_towns)\n",
    "# plt.title(\"Median Rental Prices of 4 room flats across different towns\",fontsize=20)\n",
    "# plt.xticks(rotation=90)\n",
    "# plt.xlabel('Towns',fontsize=15)\n",
    "# plt.ylabel('Rental Price (SGD)',fontsize=15)\n",
    "# plt.grid(color=\"gray\",alpha=0.4)\n",
    "# plt.show()\n",
    "\n"
   ]
  },
  {
   "cell_type": "code",
   "execution_count": null,
   "metadata": {},
   "outputs": [],
   "source": [
    "# quarters_clean = quarters[8:]\n",
    "\n",
    "# median_rental_price_clean = median_rental_price[8:]\n",
    "\n",
    "# plt.subplot(312)\n",
    "# plt.title(\"Cleaned Median Rental Prices of 4 room flats in Bukit Panjang\",fontsize=20)\n",
    "# plt.plot(quarters_clean,median_rental_price_clean,marker='o',color='red')\n",
    "# plt.xticks(rotation=90)\n",
    "# plt.ylim(1000, 2300)\n",
    "# plt.xlabel('Quarter',fontsize=15)\n",
    "# plt.ylabel('Median Rental Price (SGD)',fontsize=15)\n",
    "# plt.grid(color=\"gray\",alpha=0.4)"
   ]
  },
  {
   "attachments": {},
   "cell_type": "markdown",
   "metadata": {},
   "source": [
    "This is a line chart showing the average price of resale flats according to the lease commence date.\n",
    "<br>Lease commence date is the date the first owner took the key from HDB.\n",
    "\n",
    "From the line chart, we can see that the resale price of the flats has been increasing as the lease commence date is more recent.<br>The resale price of flats with a lease commencement date before 1970 is well below 300000SGD. The resale price of a flat with a lease commence date closer to 2020 is around 700000 SGD.\n",
    "\n",
    "However, the line chart has a few sudden increase in over time. The resale price of a flat with a lease commencement date of 2010 is around 500000 SGD. There was a sudden spike over the few years, which increased the resale price to 800000SGD.\n",
    "\n",
    "There was also a steep decrease between the year 2000 and 2010. The average price of the resale flats dropeed from around 650000SGD to below 500000 SGD.\n",
    "\n",
    "We can see from this line chart that the resale prices of flats gets higher as the lease commence date gets more recent. There are also times where the average resale price decreased even though the flat is not old.\n",
    "\n",
    "As my budget is 500000SGD, I will be looking for a flat with a lease commencement date of 1980-1990."
   ]
  },
  {
   "attachments": {},
   "cell_type": "markdown",
   "metadata": {},
   "source": [
    "This is a line graph showing the relationship between the Quarters and the median rental price of 4 room flats in Bukit Panjang. There are two line graphs in this plot.\n",
    "\n",
    "The first line graph at the top shows that the median rent price is zero from 2005-Q2 to 2007-Q1. To make the data visualization easier, these quarters were removed as there were no data in them.\n",
    "\n",
    "The second line graph shows the cleaned dataset. It shows the relationship between the quarters and the median rental price from 2007-Q2 to 2016-Q3. From 2007-Q2 to 2008-Q3 there has been an increase in the median rental price from 1100SGD to 1700SGD. However, the next 5 quarters saw a slight decrease in median rental prices, from 1700SGD to 1500SGD.\n",
    "\n",
    "After 2009-Q4, there had been an increase in the median rental prices, from 1700SGD to 2200SGD in 2013-Q2. There was a 500SGD difference between these quarters.\n",
    "\n",
    "Ever since the highest median rental price in 2013-Q2, there has been a decrease in median rental prices. The median rental price decreased to 1800SGD in 2016-Q3, from 2200SGD in 2013-Q2. There has been a decrease of 400SGD.\n"
   ]
  },
  {
   "attachments": {},
   "cell_type": "markdown",
   "metadata": {},
   "source": [
    "This is a line graph showing the relationship between the Quarters and the median rental price of 4 room flats in Bukit Panjang.\n",
    "There are two line graphs in this plot. The first line graph is the uncleaned version of the dataset while the second line graph at the bottom is the cleaned version of the dataset.\n",
    "\n"
   ]
  },
  {
   "attachments": {},
   "cell_type": "markdown",
   "metadata": {},
   "source": [
    "This is a scatter plot showing the relationship between floor area and resale price. We can see from the plot and the best-fit line that there is a negative relationship between the floor area and resale price. \n",
    "\n"
   ]
  },
  {
   "attachments": {},
   "cell_type": "markdown",
   "metadata": {},
   "source": [
    "This is a boxplot showing the spread of floor areas in each of the cheapest towns.\n",
    "\n",
    "The town with the highest median floor area is Choa Chu Kang, which has a median floor area of around 100sqm. The town with the lowest median floor area is Yishun, which has a median floor area of around 90sqm.\n",
    "\n",
    "The town with the lowest spread of floor area is Sembawang, as their smallest 4 room flat is around 85sqm and their biggest 4 room flat is around 105sqm, which is an outlier. They have the lowest spread of floor area at around 15sqm. Their median floor area is around 95sqm. The interquartile range (IQR) of Sembawang is around 10sqm.\n",
    "\n",
    "The town with the largest spread of floor area is Choa Chu Kang, their biggest 4 room flat being 130 sqm and their smallest 4 room flat is around 85sqm. They have the highest spread of floor area at around 35sqm. Their median floor area is around 95sqm.\n",
    "\n"
   ]
  },
  {
   "attachments": {},
   "cell_type": "markdown",
   "metadata": {},
   "source": [
    "1e6 stands for 1 with six 0's.\n",
    "\n",
    "This bar chart compares the average price of a 4 room flat across the different storey ranges. As the storey range increases, the average price increases too."
   ]
  },
  {
   "attachments": {},
   "cell_type": "markdown",
   "metadata": {},
   "source": [
    "This is a bar chart showing the average price of 4 room flats across different towns with a lease commence date between 1980 to 1990.\n",
    "\n",
    "The cheapest town is Woodlands, with an average price close to 400000 SGD for a 4 room flat.<br> The most expensive is Central Area, with the average price close to 800000SGD.<br>Followed by that is Queenstown, with an average price around 750000SGD.<br>However, Central Area is not considered a town in Singapore. So we will consider Queenstown as the town with the most expensive 4 room flat\n",
    "\n",
    "The cheaper towns are Woodlands, Yishun, Sembawang, Jurong West, Choa Chu Kang, Bukit Panjang and Bukit Batok.\n"
   ]
  },
  {
   "attachments": {},
   "cell_type": "markdown",
   "metadata": {},
   "source": [
    "This is a pie chart which shows the percentages of house sold according to flat type.\n",
    "\n",
    "4-Room flats were sold the most, accounting to 41.9% of the sales. 5-Room and 3-Room almost had the same number of sales, 25.2% and 23.5% respectively.\n",
    "Executive flats accounted to 7.7% of the total number of sales.\n",
    " Multi-Generation flats were sold the least, with close to 0.0% sold."
   ]
  },
  {
   "attachments": {},
   "cell_type": "markdown",
   "metadata": {},
   "source": [
    "This is a bar chart showing the average resale price across the different flat types.\n",
    "\n",
    "The cheapest flat type is the 1 Room flat, which costs around 200000SGD.<br> The most expensive flat type is the Multi Generation flat, which costs just above 800000SGD \n",
    "\n",
    "We can see that the resale price of the flat increases as the size increases.\n",
    "There is a high price difference as the Multi-Generation flat is bigger in size compared to the 1-room flat. The average resale price of a 1 room flat costs close to 200000 SGD while the average resale price of a multi-generation flat costs more than 800000SGD.\n",
    "\n",
    "I will be choosing the 4 room flat at its average resale price is around 500000SGD."
   ]
  }
 ],
 "metadata": {
  "kernelspec": {
   "display_name": "Python 3",
   "language": "python",
   "name": "python3"
  },
  "language_info": {
   "codemirror_mode": {
    "name": "ipython",
    "version": 3
   },
   "file_extension": ".py",
   "mimetype": "text/x-python",
   "name": "python",
   "nbconvert_exporter": "python",
   "pygments_lexer": "ipython3",
   "version": "3.10.5"
  },
  "orig_nbformat": 4
 },
 "nbformat": 4,
 "nbformat_minor": 2
}
