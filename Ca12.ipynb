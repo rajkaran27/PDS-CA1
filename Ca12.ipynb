{
 "cells": [
  {
   "attachments": {},
   "cell_type": "markdown",
   "metadata": {},
   "source": [
    "## M.Rajkaran\n",
    "## 2109039\n",
    "## EL/EP0302/FT/03"
   ]
  },
  {
   "attachments": {},
   "cell_type": "markdown",
   "metadata": {},
   "source": [
    "importing neccesary packages."
   ]
  },
  {
   "cell_type": "code",
   "execution_count": null,
   "metadata": {},
   "outputs": [],
   "source": [
    "import numpy as np\n",
    "import matplotlib.pyplot as plt"
   ]
  },
  {
   "attachments": {},
   "cell_type": "markdown",
   "metadata": {},
   "source": [
    "reading csv files"
   ]
  },
  {
   "cell_type": "code",
   "execution_count": null,
   "metadata": {},
   "outputs": [],
   "source": [
    "# https://data.gov.sg/dataset/resale-flat-prices\n",
    "data_resale_flat_prices = np.genfromtxt('./Datasets/resale-flat-prices-based-on-registration-date-from-jan-2017-onwards.csv', delimiter=',', dtype=[\n",
    "                                        'datetime64[M]', 'U20', 'U20', 'U5', 'U45', 'U30', int, 'U30', 'datetime64[Y]', 'U30', int], names=True)\n",
    "\n",
    "# https://data.gov.sg/dataset/median-rent-by-town-and-flat-type\n",
    "data_median_rent = np.genfromtxt('./Datasets/median-rent-by-town-and-flat-type.csv',\n",
    "                                 delimiter=',', dtype=['U30', 'U30', 'U10', int], names=True)\n",
    "\n",
    "# https://data.gov.sg/dataset/renting-out-of-flats\n",
    "data_renting_flats = np.genfromtxt('./Datasets/renting-out-of-flats.csv',delimiter=',',dtype=['U30','U30','U15','U45','U15',int],names=True)\n",
    "\n",
    "# https://data.gov.sg/dataset/school-directory-and-information?view_id=ba7c477d-a077-4303-96a1-ac1d4f25b190&resource_id=ede26d32-01af-4228-b1ed-f05c45a1d8ee\n",
    "data_school_info = np.genfromtxt('./Datasets/general-information-of-schools.csv', delimiter=',',dtype=['U45','U45','U45','U15','U10','U10','U15','U30','U15','U15','U15','U15','U15','U15','U15','U15','U15','U5','U5','U5'] ,names=True)"
   ]
  },
  {
   "attachments": {},
   "cell_type": "markdown",
   "metadata": {},
   "source": [
    "### Resale flat prices based on registration date dataset."
   ]
  },
  {
   "cell_type": "code",
   "execution_count": null,
   "metadata": {},
   "outputs": [],
   "source": [
    "print(\"**This is the resale flat prices dataset**\")\n",
    "print(f'There are {len(data_resale_flat_prices)} rows of data in this dataset.')\n",
    "#print(f'There are {len(np.unique(data_resale_flat_prices[\"month\"]))} years of data in this dataset from {np.min(data_resale_flat_prices[\"month\"])} to {np.max(data_resale_flat_prices[\"month\"])}.')\n",
    "print(f'There are {len(np.unique(data_resale_flat_prices[\"flat_type\"]))} flat types in this dataset.')\n",
    "print(f'There are {len(np.unique(data_resale_flat_prices[\"town\"]))} towns in this dataset.')\n",
    "print()\n",
    "\n",
    "mg = data_resale_flat_prices['flat_type']=='MULTI-GENERATION'\n",
    "print(f'The average price of a Multi-Generation flat is {round(np.mean(data_resale_flat_prices[mg][\"resale_price\"]),2)} SGD.')\n",
    "print()\n",
    "\n",
    "executive = data_resale_flat_prices['flat_type']=='EXECUTIVE'\n",
    "print(f'The average price of an Executive flat is {round(np.mean(data_resale_flat_prices[executive][\"resale_price\"]),2)} SGD.')\n",
    "print()\n",
    "\n",
    "room_5 = data_resale_flat_prices['flat_type']=='5 ROOM'\n",
    "print(f'The average price of a 5 Room flat is {round(np.mean(data_resale_flat_prices[room_5][\"resale_price\"]),2)} SGD.')\n",
    "print()\n",
    "\n",
    "room_4 = data_resale_flat_prices['flat_type']=='4 ROOM'\n",
    "print(f'The average price of a 4 Room flat is {round(np.mean(data_resale_flat_prices[room_4][\"resale_price\"]),2)} SGD.')\n",
    "print()\n",
    "\n",
    "room_3 = data_resale_flat_prices['flat_type']=='3 ROOM'\n",
    "print(f'The average price of a 3 Room flat is {round(np.mean(data_resale_flat_prices[room_3][\"resale_price\"]),2)} SGD.')\n",
    "print()\n",
    "\n",
    "room_2 = data_resale_flat_prices['flat_type']=='2 ROOM'\n",
    "print(f'The average price of a 2 Room flat is {round(np.mean(data_resale_flat_prices[room_2][\"resale_price\"]),2)} SGD.')\n",
    "print()\n",
    "\n",
    "room_1 = data_resale_flat_prices['flat_type']=='1 ROOM'\n",
    "print(f'The average price of a 1 Room flat is {round(np.mean(data_resale_flat_prices[room_1][\"resale_price\"]),2)} SGD.')"
   ]
  },
  {
   "attachments": {},
   "cell_type": "markdown",
   "metadata": {},
   "source": [
    "### Median rent by town and flat type dataset."
   ]
  },
  {
   "cell_type": "code",
   "execution_count": null,
   "metadata": {},
   "outputs": [],
   "source": [
    "print(\"**This is the median rent by town and flat type dataset**\")\n",
    "print(f'There are {len(data_resale_flat_prices)} rows of data in this dataset.')\n",
    "print(f'There are {len(np.unique(data_median_rent[\"town\"]))} towns in this dataset.')\n",
    "print(f'There are {len(np.unique(data_median_rent[\"flat_type\"]))} flat types in this dataset.')\n",
    "print()\n",
    "\n",
    "print(f'The average median rental price of a Executive flat is {round(np.mean(data_median_rent[data_median_rent[\"flat_type\"] == \"EXEC\"][\"median_rent\"]),2)} SGD.')\n",
    "print()\n",
    "\n",
    "print(f'The average median rental price of a 5 Room flat is {round(np.mean(data_median_rent[data_median_rent[\"flat_type\"] == \"5-RM\"][\"median_rent\"]),2)} SGD.')\n",
    "print()\n",
    "\n",
    "print(f'The average median rental price of a 4 Room flat is {round(np.mean(data_median_rent[data_median_rent[\"flat_type\"] == \"4-RM\"][\"median_rent\"]),2)} SGD.')\n",
    "print()\n",
    "\n",
    "print(f'The average median rental price of a 3 Room flat is {round(np.mean(data_median_rent[data_median_rent[\"flat_type\"] == \"3-RM\"][\"median_rent\"]),2)} SGD.')\n",
    "print()\n",
    "\n",
    "print(f'The average median rental price of a 2 Room flat is {round(np.mean(data_median_rent[data_median_rent[\"flat_type\"] == \"2-RM\"][\"median_rent\"]),2)} SGD.')\n",
    "print()\n",
    "\n",
    "print(\"There is no data available for the average rental price of a 1 room flat.\")\n"
   ]
  },
  {
   "attachments": {},
   "cell_type": "markdown",
   "metadata": {},
   "source": [
    "Do note that this dataset(median-rent-by-town-and-flat-type.csv) has missing values and has not been cleaned. Because of this, some information about the median rent might be inaccurate."
   ]
  },
  {
   "attachments": {},
   "cell_type": "markdown",
   "metadata": {},
   "source": [
    "### Renting out of flats dataset."
   ]
  },
  {
   "cell_type": "code",
   "execution_count": null,
   "metadata": {},
   "outputs": [],
   "source": [
    "# describe this dataset\n",
    "print(\"**This is the renting out of flats dataset**\")\n",
    "print(f'There are {len(data_renting_flats)} rows of data in this dataset.')\n",
    "print(f'There are {len(np.unique(data_renting_flats[\"town\"]))} towns in this dataset.')\n",
    "print(f'There are {len(np.unique(data_renting_flats[\"flat_type\"]))} flat types in this dataset.')\n",
    "print()\n",
    "\n",
    "print(f'The average rental price of a Executive flat is {round(np.mean(data_renting_flats[data_renting_flats[\"flat_type\"] == \"EXECUTIVE\"][\"monthly_rent\"]),2)} SGD.')\n",
    "print()\n",
    "\n",
    "print(f'The average rental price of a 5 Room flat is {round(np.mean(data_renting_flats[data_renting_flats[\"flat_type\"] == \"5-ROOM\"][\"monthly_rent\"]),2)} SGD.')\n",
    "print()\n",
    "\n",
    "print(f'The average rental price of a 4 Room flat is {round(np.mean(data_renting_flats[data_renting_flats[\"flat_type\"] == \"4-ROOM\"][\"monthly_rent\"]),2)} SGD.')\n",
    "print()\n",
    "\n",
    "print(f'The average rental price of a 3 Room flat is {round(np.mean(data_renting_flats[data_renting_flats[\"flat_type\"] == \"3-ROOM\"][\"monthly_rent\"]),2)} SGD.')\n",
    "print()\n",
    "\n",
    "print(f'The average rental price of a 2 Room flat is {round(np.mean(data_renting_flats[data_renting_flats[\"flat_type\"] == \"2-ROOM\"][\"monthly_rent\"]),2)} SGD.')\n",
    "print()\n",
    "\n",
    "print(f'The average rental price of a 1 Room flat is {round(np.mean(data_renting_flats[data_renting_flats[\"flat_type\"] == \"1-ROOM\"][\"monthly_rent\"]),2)} SGD.')\n",
    "print()"
   ]
  },
  {
   "attachments": {},
   "cell_type": "markdown",
   "metadata": {},
   "source": [
    "### General Information of Schools Dataset."
   ]
  },
  {
   "cell_type": "code",
   "execution_count": null,
   "metadata": {},
   "outputs": [],
   "source": [
    "# describe the general information of schools dataset\n",
    "print(\"**This is the general information of schools dataset**\")\n",
    "print(f'There are {len(data_school_info)} rows of data in this dataset.')\n",
    "print(f'There are {len(np.unique(data_school_info[\"school_name\"]))} schools in this dataset.')\n",
    "print(f'There are {len(np.unique(data_school_info[\"dgp_code\"]))} towns in this dataset.')\n",
    "print()\n"
   ]
  },
  {
   "attachments": {},
   "cell_type": "markdown",
   "metadata": {},
   "source": [
    "### Title of data analysis:\n",
    "## Which flat type offers the most favorable investment opportunity for rental purposes in a specific town within a price range of 500000SGD?"
   ]
  },
  {
   "attachments": {},
   "cell_type": "markdown",
   "metadata": {},
   "source": [
    "#### I am looking for the best flat to buy and rent out, in order to profit from it. I have a budget of 500000SGD."
   ]
  },
  {
   "attachments": {},
   "cell_type": "markdown",
   "metadata": {},
   "source": [
    "### What is the difference in the prices of flat types?"
   ]
  },
  {
   "cell_type": "code",
   "execution_count": null,
   "metadata": {},
   "outputs": [],
   "source": [
    "# getting the different flat types\n",
    "flat_types = np.unique(data_resale_flat_prices['flat_type'])\n",
    "\n",
    "# getting the average resale prices for each flat type\n",
    "# creating an numpy array with the length of flat types\n",
    "resale_prices = np.zeros(len(flat_types))\n",
    "# finding average resale price of each flat type and storing them into resale_prices array\n",
    "for i in range(len(flat_types)):\n",
    "    resale_prices[i] = np.mean(data_resale_flat_prices['resale_price'][data_resale_flat_prices['flat_type'] == flat_types[i]])\n",
    "\n",
    "# Plotting the graph\n",
    "plt.figure(figsize=(20, 10))\n",
    "plt.bar(flat_types, resale_prices)\n",
    "plt.xlabel('Flat Type',fontsize=15)\n",
    "plt.ylabel('Average Resale Price',fontsize=15)\n",
    "plt.title('Average Resale Prices Across Different Flat Types',fontsize=20)\n",
    "plt.grid(color=\"gray\",alpha=0.7)\n",
    "plt.xticks(rotation=45)\n",
    "plt.show()"
   ]
  },
  {
   "attachments": {},
   "cell_type": "markdown",
   "metadata": {},
   "source": [
    "This is a bar chart showing the different Flat types and their prices. There are 7 flat types in this bar chart. They are 1 Room, 2 Room, 3 Room, 4 Room, 5 Room, Executie and Multi Generation.\n",
    "\n",
    "The cheapest flat type is the 1 Room flat, which costs close to 200000SGD. The most expensive flat type is the Multi-Generation Flat, costing more than 800000SGD. As the number of rooms increases, the price of the flat increases too. The Executive, 5 Room and 4 Room flat have the same number of bedrooms, with 3 bedrooms. However, the executive flat has more floor area compared to the 5 room and 4 room flats. The Multi-Generational flat has the same floor area as a 5 room flat. However, the Multi-Generational flat has two bedrooms with attached bathrooms, and two other bedrooms. This is why the Multi-Generational flat costs the most, at around 800000SGD.\n",
    "\n",
    "As my budget is 500000SGD, I will be going with the 4 room flat.\n"
   ]
  },
  {
   "attachments": {},
   "cell_type": "markdown",
   "metadata": {},
   "source": [
    "### Which flat type had the most sales?"
   ]
  },
  {
   "cell_type": "code",
   "execution_count": null,
   "metadata": {},
   "outputs": [],
   "source": [
    "count_1_room = np.sum(data_resale_flat_prices['flat_type']=='1 ROOM')\n",
    "count_2_room = np.sum(data_resale_flat_prices['flat_type']=='2 ROOM')\n",
    "count_3_room = np.sum(data_resale_flat_prices['flat_type']=='3 ROOM')\n",
    "count_4_room = np.sum(data_resale_flat_prices['flat_type']=='4 ROOM')\n",
    "count_5_room = np.sum(data_resale_flat_prices['flat_type']=='5 ROOM')\n",
    "count_executive = np.sum(data_resale_flat_prices['flat_type']=='EXECUTIVE')\n",
    "count_mg = np.sum(data_resale_flat_prices['flat_type']=='MULTI-GENERATION')\n",
    "\n",
    "sizes = [count_1_room, count_2_room, count_3_room, count_4_room, count_5_room, count_executive, count_mg]\n",
    "for size in sizes:\n",
    "    print(size)\n",
    "\n",
    "# labels = np.unique(data_resale_flat_prices['flat_type'])\n",
    "# explode =(0,0,0,0.1,0,0,0)\n",
    "\n",
    "\n",
    "# fig1,ax1 = plt.subplots(figsize=(8,8),facecolor='white')\n",
    "# ax1.pie(sizes,explode=explode,shadow=True, autopct='%1.1f%%',textprops={'fontsize': 15})\n",
    "# plt.legend(labels,title=\"Flat Types\",loc=\"center left\" ,bbox_to_anchor=(1, 0.5))\n",
    "# plt.title(\"Distribution of Flat Types\",fontsize=20)\n",
    "# plt.show()"
   ]
  },
  {
   "attachments": {},
   "cell_type": "markdown",
   "metadata": {},
   "source": [
    "### What is the relationship between the lease commence date and the resale prices of 4 room flats?"
   ]
  },
  {
   "cell_type": "code",
   "execution_count": null,
   "metadata": {},
   "outputs": [],
   "source": [
    "room_4 = data_resale_flat_prices[data_resale_flat_prices['flat_type']=='4 ROOM']\n",
    "\n",
    "lease_commence_date = np.unique(room_4['lease_commence_date'])\n",
    "avg_price = []\n",
    "for date in lease_commence_date:\n",
    "    avg_price.append(np.mean(room_4[room_4['lease_commence_date']==date]['resale_price']))\n",
    "\n",
    "plt.figure(figsize=(20,10))\n",
    "plt.plot(lease_commence_date,avg_price,marker='o',color='red')\n",
    "plt.title(\"Average Resale Price of 4 Room Flats by Lease Commence Date\",fontsize=20)\n",
    "plt.xticks(rotation=90)\n",
    "plt.xlabel('Lease Commence Date',fontsize=15)\n",
    "plt.ylabel('Average Price (SGD)',fontsize=15)\n",
    "plt.grid(color=\"gray\",alpha=0.4)\n",
    "plt.show()"
   ]
  },
  {
   "attachments": {},
   "cell_type": "markdown",
   "metadata": {},
   "source": [
    "This line graph shows the relationship between the lease commence date (LCD) and the average resale price in Singapore dollars (SGD). All HDB flats are leased for a period of 99 years, and the LCD is the starting point for this calculation. A flat with a shorter lease term will be worth less than a flat with a longer lease term.\n",
    "\n",
    "From the graph, we can see that the average resale price started with a steep increase and then decreased. The average resale price was around 600,000 SGD and it then increased to more than 900000 SGD in a few years. The price dropped back down to 450000 SGD when the LCD was 1970. Flats with an LCD between 1970 and the mid-2000s had average resale prices between 400000 SGD and 500000 SGD.\n",
    "\n",
    "Flats with an LCD after the mid-2000s saw their average resale price increase. Although there were a few steep drops in prices, the highest it went to was above 700000 SGD. In the mid-2010s, there was a steep increase in price, from 500000 SGD to around 700000 SGD. After that steep drop, there was an increase in the average resale price, around 700000 SGD, as the LCD was closer to 2020.\n",
    "\n",
    "Even though a flat with a recent LCD would be worth more, there are some older flats with an LCD of before 1970 which had a resale price of above 900000 SGD. There could be several factors affecting this, including the town, flat model, and facilities in that town.\n",
    "\n",
    "As my budget is 500000 SGD, I will be choosing a 4-room flat with an LCD between 1980 and 2000."
   ]
  },
  {
   "cell_type": "code",
   "execution_count": null,
   "metadata": {},
   "outputs": [],
   "source": [
    "room_4 = data_resale_flat_prices[(data_resale_flat_prices['flat_type'] == '4 ROOM') & (data_resale_flat_prices['lease_commence_date'] >= np.datetime64('1980'))& (data_resale_flat_prices['lease_commence_date'] <= np.datetime64('2000'))]\n",
    "\n",
    "sqm=room_4['floor_area_sqm']\n",
    "resale_price=room_4['resale_price']\n",
    "\n",
    "plt.figure(figsize=(20,10))\n",
    "a,b = np.polyfit(sqm, resale_price, 1)\n",
    "plt.scatter(sqm,resale_price)\n",
    "plt.plot(sqm, a*sqm+b, color='red')\n",
    "plt.title(\"Scatter plot of floor area vs resale price for 4 Room flats\",fontsize=20)\n",
    "plt.xlabel('Floor Area (sqm)',fontsize=15)\n",
    "plt.ylabel('Resale Price (SGD)',fontsize=15)\n",
    "plt.grid(color=\"gray\",alpha=0.4)\n",
    "plt.show()\n"
   ]
  },
  {
   "attachments": {},
   "cell_type": "markdown",
   "metadata": {},
   "source": [
    "1e6 refers to 1 and six 0's (1000000). This is shown at the top of the Y-axis.  \n",
    "\n",
    "This is a scatter plot showing the relationship between the floor area and resale price in 4 room flats. The data points in blue are the flats. We can see that there is a <strong>low positive correlation</strong> between the floor area and resale price. As the floor area increases, the resale price increases too. A best fit line is drawn in red to show this trend.\n",
    "\n",
    "This scatter plot shows that most of the 4-room flats have a floor area of 80 to 110 square meters(sqm). The <strong>cheapest</strong> flat has a floor area of around 85sqm and costs around <strong>250000SGD</strong>. The most <strong>expensive</strong> flat has a floor area closer to 110sqm, and costs close to <strong>1000000SGD</strong>. This is an outlier as there are flats with a bigger floor area and costing lesser than this. \n",
    "\n",
    "As my budget is <strong>500000SGD</strong>, I will choose a flat with a floor area between 100 and 110sqm, since majority of the data points is accumulated there.\n",
    "\n"
   ]
  },
  {
   "attachments": {},
   "cell_type": "markdown",
   "metadata": {},
   "source": [
    "### What is the difference between the flat models in 4 room flats?"
   ]
  },
  {
   "cell_type": "code",
   "execution_count": null,
   "metadata": {},
   "outputs": [],
   "source": [
    "room_4 = data_resale_flat_prices[(data_resale_flat_prices['flat_type'] == '4 ROOM') & (data_resale_flat_prices['lease_commence_date'] >= np.datetime64('1980'))& (data_resale_flat_prices['lease_commence_date'] <= np.datetime64('1990'))]\n",
    "flat_types = np.unique(room_4['flat_model'])\n",
    "average_price=[]\n",
    "\n",
    "for flat in flat_types:\n",
    "    average_price.append(np.mean(room_4[room_4['flat_model']==flat]['resale_price']))\n",
    "\n",
    "plt.figure(figsize=(20,8))\n",
    "plt.bar(flat_types,average_price,color='red')\n",
    "plt.title(\"Average prices of 4 room flats across different flat models\",fontsize=20)\n",
    "plt.xticks(rotation=90)\n",
    "plt.xlabel('Flat Models',fontsize=15)\n",
    "plt.ylabel('Average Price (SGD)',fontsize=15)\n",
    "plt.show()\n"
   ]
  },
  {
   "cell_type": "code",
   "execution_count": null,
   "metadata": {},
   "outputs": [],
   "source": [
    "# compare resale prices with story ranges\n",
    "room_4 = data_resale_flat_prices[(data_resale_flat_prices['flat_type'] == '4 ROOM') & (data_resale_flat_prices['lease_commence_date'] >= np.datetime64('1980'))& (data_resale_flat_prices['lease_commence_date'] <= np.datetime64('1990')) & (data_resale_flat_prices['flat_model']=='Model A')]\n",
    "storey_ranges = np.unique(room_4['storey_range'])\n",
    "\n",
    "average_price_storey = []\n",
    "\n",
    "for storey in storey_ranges:\n",
    "    average_price_storey.append(np.mean(room_4[room_4['storey_range']==storey]['resale_price']))\n",
    "\n",
    "plt.figure(figsize=(20,8))\n",
    "plt.bar(storey_ranges,average_price_storey)\n",
    "plt.title(\"Average prices of 4 room flats across different storey ranges\",fontsize=20)\n",
    "plt.xticks(rotation=90)\n",
    "plt.xlabel('Storey Ranges',fontsize=15)\n",
    "plt.ylabel('Average Price (SGD)',fontsize=15)\n",
    "plt.grid(color=\"gray\",alpha=0.6)\n",
    "plt.show()\n"
   ]
  },
  {
   "attachments": {},
   "cell_type": "markdown",
   "metadata": {},
   "source": [
    "### Among 4-room flats with a lease commence date between 1980 and 2000 and a floor area between 100 and 110sqm, which town suits my budget of 500000SGD?"
   ]
  },
  {
   "cell_type": "code",
   "execution_count": null,
   "metadata": {},
   "outputs": [],
   "source": [
    "room_4 = data_resale_flat_prices[(data_resale_flat_prices['flat_type'] == '4 ROOM') & \n",
    "                                 (data_resale_flat_prices['lease_commence_date'] >= np.datetime64('1980')) & \n",
    "                                 (data_resale_flat_prices['lease_commence_date'] <= np.datetime64('2000')) &\n",
    "                                 (data_resale_flat_prices['floor_area_sqm'] >= 100) &\n",
    "                                 (data_resale_flat_prices['floor_area_sqm'] <= 110)]\n",
    "towns = np.unique(room_4['town'])\n",
    "average_price = []\n",
    "\n",
    "for town in towns:\n",
    "    average_price.append(\n",
    "        np.mean(room_4[room_4['town'] == town]['resale_price']))\n",
    "\n",
    "plt.figure(figsize=(20, 10))\n",
    "plt.bar(towns, average_price)\n",
    "plt.title(\"Average prices of 4 room flats across different towns\", fontsize=20)\n",
    "plt.xticks(rotation=90)\n",
    "plt.xlabel('Towns', fontsize=15)\n",
    "plt.ylabel('Average Price (SGD)', fontsize=15)\n",
    "plt.grid(color=\"gray\", alpha=0.4)\n",
    "plt.show()\n"
   ]
  },
  {
   "attachments": {},
   "cell_type": "markdown",
   "metadata": {},
   "source": [
    "This is a bar chart showing the average resale prices of 4 room flats across different towns. The lease commence date of these flats are between 1980 to 2000 and the flats here have a floor area between 100 and 110sqm.\n",
    "\n",
    "The <strong>most expensive</strong> town is Queenstown, with an average resale price of a 4 room crossing <strong>700000SGD</strong>. Bukit Timah is the second most expensive town with an average resale price of a 4 room flat right below <strong>700000SGD</strong>. The <strong>cheapest town</strong> is between Woodlands, Yishun, and Sembawang with an average resale price of a 4 room flat around <strong>350000SGD</strong>. \n",
    "\n",
    "As my budget is 500000SGD, I will be choosing a few towns to compare"
   ]
  },
  {
   "attachments": {},
   "cell_type": "markdown",
   "metadata": {},
   "source": [
    "## What is the spread of floor areas for 4-room flats in the cheapest towns? "
   ]
  },
  {
   "cell_type": "code",
   "execution_count": 175,
   "metadata": {},
   "outputs": [
    {
     "data": {
      "image/png": "[encoded data removed]",
      "text/plain": [
       "<Figure size 1152x720 with 1 Axes>"
      ]
     },
     "metadata": {
      "needs_background": "light"
     },
     "output_type": "display_data"
    }
   ],
   "source": [
    "room_4 = data_resale_flat_prices[(data_resale_flat_prices['flat_type'] == '4 ROOM') & (data_resale_flat_prices['lease_commence_date'] >= np.datetime64(\n",
    "    '1980')) & (data_resale_flat_prices['lease_commence_date'] <= np.datetime64('1990')) & (data_resale_flat_prices['flat_model'] == 'Model A') & (data_resale_flat_prices['storey_range'] == '13 TO 15')]\n",
    "\n",
    "room_4_cheapest = data_resale_flat_prices[(\n",
    "    data_resale_flat_prices['flat_type'] == '4 ROOM')]\n",
    "\n",
    "towns = [\"WOODLANDS\", \"YISHUN\", \"SEMBAWANG\", \"JURONG WEST\",\n",
    "         \"CHOA CHU KANG\", \"BUKIT PANJANG\", \"BUKIT BATOK\"]\n",
    "cheapest_towns = []\n",
    "\n",
    "for town in towns:\n",
    "    cheapest_towns.append(\n",
    "        np.unique(data_median_rent[data_median_rent['town'] == town]['town']))\n",
    "\n",
    "# chatgpt Extract the town names from the numpy arrays\n",
    "cheapest_towns = [town[0] for town in cheapest_towns]\n",
    "\n",
    "sqm_of_town = []\n",
    "\n",
    "for town in cheapest_towns:\n",
    "    sqm_of_town.append(\n",
    "        room_4_cheapest[room_4_cheapest['town'] == town]['floor_area_sqm'])\n",
    "\n",
    "plt.figure(figsize=(16, 10))\n",
    "plt.boxplot(sqm_of_town, labels=cheapest_towns)\n",
    "plt.title(\"Spread of Floor Area of 4 Room Flats in Cheapest Towns\", fontsize=20)\n",
    "plt.xticks(rotation=90)\n",
    "plt.xlabel('Towns', fontsize=15)\n",
    "plt.ylim(80, 140)\n",
    "plt.ylabel('Floor Area (sqm)', fontsize=15)\n",
    "plt.grid(color=\"gray\", alpha=0.6)\n",
    "plt.show()\n"
   ]
  },
  {
   "cell_type": "code",
   "execution_count": 176,
   "metadata": {},
   "outputs": [
    {
     "data": {
      "image/png": "[encoded data removed]",
      "text/plain": [
       "<Figure size 1440x720 with 1 Axes>"
      ]
     },
     "metadata": {
      "needs_background": "light"
     },
     "output_type": "display_data"
    }
   ],
   "source": [
    "bukit_panjang_schools = data_school_info[data_school_info['dgp_code']=='BUKIT PANJANG']\n",
    "\n",
    "towns = [\"WOODLANDS\", \"YISHUN\", \"SEMBAWANG\", \"JURONG WEST\", \"CHOA CHU KANG\", \"BUKIT PANJANG\", \"BUKIT BATOK\"]\n",
    "selected_towns = []\n",
    "\n",
    "for town in towns:\n",
    "    selected_towns.append(np.unique(data_school_info[data_school_info['dgp_code'] == town]['dgp_code']))\n",
    "\n",
    "# chatgpt Extract the town names from the numpy arrays\n",
    "selected_towns = [school[0] for school in selected_towns]\n",
    "\n",
    "number_of_schools = []\n",
    "\n",
    "for town in selected_towns:\n",
    "    schools_in_town = data_school_info[data_school_info['dgp_code'] == town]\n",
    "    number_of_schools.append(len(schools_in_town))\n",
    "\n",
    "plt.figure(figsize=(20,10))\n",
    "plt.title(\"Number of Schools in Each Town\",fontsize=20)\n",
    "plt.xlabel('Towns',fontsize=15)\n",
    "plt.ylabel('Number of Schools',fontsize=15)\n",
    "plt.bar(selected_towns,number_of_schools)\n",
    "plt.xticks(rotation=90)\n",
    "plt.grid(color=\"gray\",alpha=0.6)\n",
    "plt.show()\n"
   ]
  },
  {
   "attachments": {},
   "cell_type": "markdown",
   "metadata": {},
   "source": [
    "### What is the distribution of median rent in all type of flats?"
   ]
  },
  {
   "cell_type": "code",
   "execution_count": 177,
   "metadata": {},
   "outputs": [
    {
     "data": {
      "image/png": "[encoded data removed]",
      "text/plain": [
       "<Figure size 864x432 with 1 Axes>"
      ]
     },
     "metadata": {
      "needs_background": "light"
     },
     "output_type": "display_data"
    }
   ],
   "source": [
    "median_rent = data_median_rent['median_rent']\n",
    "\n",
    "for rent in median_rent:\n",
    "    if rent == -1:\n",
    "        median_rent = np.delete(median_rent, np.where(median_rent == -1))\n",
    "\n",
    "# Create the histogram\n",
    "plt.figure(figsize=(12, 6))\n",
    "plt.hist(median_rent, bins=20, edgecolor=\"black\")\n",
    "plt.xlabel('Median Rent ($)',fontsize=15)\n",
    "plt.ylabel('Frequency',fontsize=15)\n",
    "plt.title('Distribution of Median Rent',fontsize=20)\n",
    "plt.grid(color=\"gray\",alpha=0.6)\n",
    "plt.show()"
   ]
  },
  {
   "attachments": {},
   "cell_type": "markdown",
   "metadata": {},
   "source": [
    "### "
   ]
  },
  {
   "cell_type": "code",
   "execution_count": 178,
   "metadata": {},
   "outputs": [
    {
     "ename": "ValueError",
     "evalue": "x and y must have same first dimension, but have shapes (70,) and (71,)",
     "output_type": "error",
     "traceback": [
      "\u001b[1;31m---------------------------------------------------------------------------\u001b[0m",
      "\u001b[1;31mValueError\u001b[0m                                Traceback (most recent call last)",
      "\u001b[1;32mc:\\Users\\rajka\\OneDrive - Singapore Polytechnic\\Year 2\\PDS\\CA1\\Ca12.ipynb Cell 39\u001b[0m in \u001b[0;36m<cell line: 17>\u001b[1;34m()\u001b[0m\n\u001b[0;32m     <a href='vscode-notebook-cell:/c%3A/Users/rajka/OneDrive%20-%20Singapore%20Polytechnic/Year%202/PDS/CA1/Ca12.ipynb#X52sZmlsZQ%3D%3D?line=14'>15</a>\u001b[0m plt\u001b[39m.\u001b[39mfigure(figsize\u001b[39m=\u001b[39m(\u001b[39m14\u001b[39m,\u001b[39m12\u001b[39m))\n\u001b[0;32m     <a href='vscode-notebook-cell:/c%3A/Users/rajka/OneDrive%20-%20Singapore%20Polytechnic/Year%202/PDS/CA1/Ca12.ipynb#X52sZmlsZQ%3D%3D?line=15'>16</a>\u001b[0m plt\u001b[39m.\u001b[39msubplot(\u001b[39m211\u001b[39m)\n\u001b[1;32m---> <a href='vscode-notebook-cell:/c%3A/Users/rajka/OneDrive%20-%20Singapore%20Polytechnic/Year%202/PDS/CA1/Ca12.ipynb#X52sZmlsZQ%3D%3D?line=16'>17</a>\u001b[0m plt\u001b[39m.\u001b[39;49mplot(quarters,median_rental_price,marker\u001b[39m=\u001b[39;49m\u001b[39m'\u001b[39;49m\u001b[39mo\u001b[39;49m\u001b[39m'\u001b[39;49m,color\u001b[39m=\u001b[39;49m\u001b[39m'\u001b[39;49m\u001b[39mred\u001b[39;49m\u001b[39m'\u001b[39;49m)\n\u001b[0;32m     <a href='vscode-notebook-cell:/c%3A/Users/rajka/OneDrive%20-%20Singapore%20Polytechnic/Year%202/PDS/CA1/Ca12.ipynb#X52sZmlsZQ%3D%3D?line=17'>18</a>\u001b[0m plt\u001b[39m.\u001b[39mtitle(\u001b[39m\"\u001b[39m\u001b[39mMedian Rental Prices of 4 room flats in Bukit Panjang\u001b[39m\u001b[39m\"\u001b[39m,fontsize\u001b[39m=\u001b[39m\u001b[39m20\u001b[39m)\n\u001b[0;32m     <a href='vscode-notebook-cell:/c%3A/Users/rajka/OneDrive%20-%20Singapore%20Polytechnic/Year%202/PDS/CA1/Ca12.ipynb#X52sZmlsZQ%3D%3D?line=18'>19</a>\u001b[0m plt\u001b[39m.\u001b[39mxticks(rotation\u001b[39m=\u001b[39m\u001b[39m90\u001b[39m)\n",
      "File \u001b[1;32mc:\\Users\\rajka\\AppData\\Local\\Programs\\Python\\Python310\\lib\\site-packages\\matplotlib\\pyplot.py:2785\u001b[0m, in \u001b[0;36mplot\u001b[1;34m(scalex, scaley, data, *args, **kwargs)\u001b[0m\n\u001b[0;32m   2783\u001b[0m \u001b[39m@_copy_docstring_and_deprecators\u001b[39m(Axes\u001b[39m.\u001b[39mplot)\n\u001b[0;32m   2784\u001b[0m \u001b[39mdef\u001b[39;00m \u001b[39mplot\u001b[39m(\u001b[39m*\u001b[39margs, scalex\u001b[39m=\u001b[39m\u001b[39mTrue\u001b[39;00m, scaley\u001b[39m=\u001b[39m\u001b[39mTrue\u001b[39;00m, data\u001b[39m=\u001b[39m\u001b[39mNone\u001b[39;00m, \u001b[39m*\u001b[39m\u001b[39m*\u001b[39mkwargs):\n\u001b[1;32m-> 2785\u001b[0m     \u001b[39mreturn\u001b[39;00m gca()\u001b[39m.\u001b[39mplot(\n\u001b[0;32m   2786\u001b[0m         \u001b[39m*\u001b[39margs, scalex\u001b[39m=\u001b[39mscalex, scaley\u001b[39m=\u001b[39mscaley,\n\u001b[0;32m   2787\u001b[0m         \u001b[39m*\u001b[39m\u001b[39m*\u001b[39m({\u001b[39m\"\u001b[39m\u001b[39mdata\u001b[39m\u001b[39m\"\u001b[39m: data} \u001b[39mif\u001b[39;00m data \u001b[39mis\u001b[39;00m \u001b[39mnot\u001b[39;00m \u001b[39mNone\u001b[39;00m \u001b[39melse\u001b[39;00m {}), \u001b[39m*\u001b[39m\u001b[39m*\u001b[39mkwargs)\n",
      "File \u001b[1;32mc:\\Users\\rajka\\AppData\\Local\\Programs\\Python\\Python310\\lib\\site-packages\\matplotlib\\axes\\_axes.py:1688\u001b[0m, in \u001b[0;36mAxes.plot\u001b[1;34m(self, scalex, scaley, data, *args, **kwargs)\u001b[0m\n\u001b[0;32m   1445\u001b[0m \u001b[39m\"\"\"\u001b[39;00m\n\u001b[0;32m   1446\u001b[0m \u001b[39mPlot y versus x as lines and/or markers.\u001b[39;00m\n\u001b[0;32m   1447\u001b[0m \n\u001b[1;32m   (...)\u001b[0m\n\u001b[0;32m   1685\u001b[0m \u001b[39m(``'green'``) or hex strings (``'#008000'``).\u001b[39;00m\n\u001b[0;32m   1686\u001b[0m \u001b[39m\"\"\"\u001b[39;00m\n\u001b[0;32m   1687\u001b[0m kwargs \u001b[39m=\u001b[39m cbook\u001b[39m.\u001b[39mnormalize_kwargs(kwargs, mlines\u001b[39m.\u001b[39mLine2D)\n\u001b[1;32m-> 1688\u001b[0m lines \u001b[39m=\u001b[39m [\u001b[39m*\u001b[39m\u001b[39mself\u001b[39m\u001b[39m.\u001b[39m_get_lines(\u001b[39m*\u001b[39margs, data\u001b[39m=\u001b[39mdata, \u001b[39m*\u001b[39m\u001b[39m*\u001b[39mkwargs)]\n\u001b[0;32m   1689\u001b[0m \u001b[39mfor\u001b[39;00m line \u001b[39min\u001b[39;00m lines:\n\u001b[0;32m   1690\u001b[0m     \u001b[39mself\u001b[39m\u001b[39m.\u001b[39madd_line(line)\n",
      "File \u001b[1;32mc:\\Users\\rajka\\AppData\\Local\\Programs\\Python\\Python310\\lib\\site-packages\\matplotlib\\axes\\_base.py:311\u001b[0m, in \u001b[0;36m_process_plot_var_args.__call__\u001b[1;34m(self, data, *args, **kwargs)\u001b[0m\n\u001b[0;32m    309\u001b[0m     this \u001b[39m+\u001b[39m\u001b[39m=\u001b[39m args[\u001b[39m0\u001b[39m],\n\u001b[0;32m    310\u001b[0m     args \u001b[39m=\u001b[39m args[\u001b[39m1\u001b[39m:]\n\u001b[1;32m--> 311\u001b[0m \u001b[39myield from\u001b[39;00m \u001b[39mself\u001b[39;49m\u001b[39m.\u001b[39;49m_plot_args(\n\u001b[0;32m    312\u001b[0m     this, kwargs, ambiguous_fmt_datakey\u001b[39m=\u001b[39;49mambiguous_fmt_datakey)\n",
      "File \u001b[1;32mc:\\Users\\rajka\\AppData\\Local\\Programs\\Python\\Python310\\lib\\site-packages\\matplotlib\\axes\\_base.py:504\u001b[0m, in \u001b[0;36m_process_plot_var_args._plot_args\u001b[1;34m(self, tup, kwargs, return_kwargs, ambiguous_fmt_datakey)\u001b[0m\n\u001b[0;32m    501\u001b[0m     \u001b[39mself\u001b[39m\u001b[39m.\u001b[39maxes\u001b[39m.\u001b[39myaxis\u001b[39m.\u001b[39mupdate_units(y)\n\u001b[0;32m    503\u001b[0m \u001b[39mif\u001b[39;00m x\u001b[39m.\u001b[39mshape[\u001b[39m0\u001b[39m] \u001b[39m!=\u001b[39m y\u001b[39m.\u001b[39mshape[\u001b[39m0\u001b[39m]:\n\u001b[1;32m--> 504\u001b[0m     \u001b[39mraise\u001b[39;00m \u001b[39mValueError\u001b[39;00m(\u001b[39mf\u001b[39m\u001b[39m\"\u001b[39m\u001b[39mx and y must have same first dimension, but \u001b[39m\u001b[39m\"\u001b[39m\n\u001b[0;32m    505\u001b[0m                      \u001b[39mf\u001b[39m\u001b[39m\"\u001b[39m\u001b[39mhave shapes \u001b[39m\u001b[39m{\u001b[39;00mx\u001b[39m.\u001b[39mshape\u001b[39m}\u001b[39;00m\u001b[39m and \u001b[39m\u001b[39m{\u001b[39;00my\u001b[39m.\u001b[39mshape\u001b[39m}\u001b[39;00m\u001b[39m\"\u001b[39m)\n\u001b[0;32m    506\u001b[0m \u001b[39mif\u001b[39;00m x\u001b[39m.\u001b[39mndim \u001b[39m>\u001b[39m \u001b[39m2\u001b[39m \u001b[39mor\u001b[39;00m y\u001b[39m.\u001b[39mndim \u001b[39m>\u001b[39m \u001b[39m2\u001b[39m:\n\u001b[0;32m    507\u001b[0m     \u001b[39mraise\u001b[39;00m \u001b[39mValueError\u001b[39;00m(\u001b[39mf\u001b[39m\u001b[39m\"\u001b[39m\u001b[39mx and y can be no greater than 2D, but have \u001b[39m\u001b[39m\"\u001b[39m\n\u001b[0;32m    508\u001b[0m                      \u001b[39mf\u001b[39m\u001b[39m\"\u001b[39m\u001b[39mshapes \u001b[39m\u001b[39m{\u001b[39;00mx\u001b[39m.\u001b[39mshape\u001b[39m}\u001b[39;00m\u001b[39m and \u001b[39m\u001b[39m{\u001b[39;00my\u001b[39m.\u001b[39mshape\u001b[39m}\u001b[39;00m\u001b[39m\"\u001b[39m)\n",
      "\u001b[1;31mValueError\u001b[0m: x and y must have same first dimension, but have shapes (70,) and (71,)"
     ]
    },
    {
     "data": {
      "text/plain": [
       "<Figure size 432x288 with 0 Axes>"
      ]
     },
     "metadata": {},
     "output_type": "display_data"
    },
    {
     "data": {
      "image/png": "[encoded data removed]",
      "text/plain": [
       "<Figure size 1008x864 with 1 Axes>"
      ]
     },
     "metadata": {
      "needs_background": "light"
     },
     "output_type": "display_data"
    }
   ],
   "source": [
    "\n",
    "# Extracting data for Bukit Panjang and 4 Room\n",
    "bukit_panjang_4_room = data_median_rent[(data_median_rent['town']=='BUKIT PANJANG') & (data_median_rent['flat_type']=='4-RM')]\n",
    "\n",
    "# getting the different quarters\n",
    "quarters = np.unique(bukit_panjang_4_room['quarter'])\n",
    "\n",
    "median_rental_price = []\n",
    "\n",
    "#finding the median rental price for each quarter\n",
    "for quarter in quarters:\n",
    "    median_rental_price.extend(bukit_panjang_4_room[bukit_panjang_4_room['quarter']==quarter]['median_rent'])\n",
    "\n",
    "#plotting the graph\n",
    "plt.figure(1)\n",
    "plt.figure(figsize=(14,12))\n",
    "plt.subplot(211)\n",
    "plt.plot(quarters,median_rental_price,marker='o',color='red')\n",
    "plt.title(\"Median Rental Prices of 4 room flats in Bukit Panjang\",fontsize=20)\n",
    "plt.xticks(rotation=90)\n",
    "plt.xlabel('Quarter',fontsize=15)\n",
    "plt.ylabel('Average Rental Price (SGD)',fontsize=15)\n",
    "plt.grid(color=\"gray\",alpha=0.4)\n",
    "\n",
    "\n",
    "data_median_rent['town'] = np.char.strip(data_median_rent['town'])\n",
    "\n",
    "bukit_panjang_4_room = data_median_rent[(data_median_rent['flat_type'] == '4-RM') & (data_median_rent['town'] == 'BUKIT PANJANG')]\n",
    "\n",
    "quarters = np.unique(bukit_panjang_4_room['quarter'])\n",
    "\n",
    "median_rent_cleaned = []\n",
    "\n",
    "for quarter in quarters:\n",
    "    median_rent_cleaned.extend(bukit_panjang_4_room[bukit_panjang_4_room['quarter']==quarter]['median_rent'])\n",
    "\n",
    "median_rent_cleaned = median_rent_cleaned[9:]\n",
    "quarters = quarters[8:]\n",
    "\n",
    "plt.subplot(212)\n",
    "plt.plot(quarters,median_rent_cleaned,marker='o',color='red')\n",
    "plt.title(\"Median Rental Prices of 4 room flats in Bukit Panjang (Cleaned)\",fontsize=20)\n",
    "plt.xticks(rotation=90)\n",
    "plt.xlabel('Quarter',fontsize=15)\n",
    "plt.ylabel('Average Rental Price (SGD)',fontsize=15)\n",
    "plt.grid(color=\"gray\",alpha=0.4)\n",
    "\n",
    "plt.subplots_adjust(hspace=0.7)  # chatgpt Adjust the value as per your desired spacing\n",
    "\n",
    "plt.show()\n",
    "\n",
    "\n"
   ]
  },
  {
   "cell_type": "code",
   "execution_count": 179,
   "metadata": {},
   "outputs": [
    {
     "data": {
      "image/png": "[encoded data removed]",
      "text/plain": [
       "<Figure size 1440x576 with 1 Axes>"
      ]
     },
     "metadata": {
      "needs_background": "light"
     },
     "output_type": "display_data"
    }
   ],
   "source": [
    "streets_in_bp = np.unique(data_renting_flats[(data_renting_flats['flat_type']=='4-ROOM') & (data_renting_flats['town']=='BUKIT PANJANG')]['street_name'])\n",
    "\n",
    "average_rental_price = []\n",
    "\n",
    "for streets in streets_in_bp:\n",
    "    average_rental_price.append(np.mean(data_renting_flats[(data_renting_flats['flat_type']=='4-ROOM') & (data_renting_flats['town']=='BUKIT PANJANG') & (data_renting_flats['street_name']==streets)]['monthly_rent']))\n",
    "\n",
    "plt.figure(figsize=(20,8))\n",
    "plt.bar(streets_in_bp,average_rental_price)\n",
    "plt.title(\"Average Rental Prices of 4 room flats in different parts of Bukit Panjang\",fontsize=20)\n",
    "plt.xticks(rotation=90)\n",
    "plt.xlabel('Streets',fontsize=15)\n",
    "plt.ylabel('Average Rental Price (SGD)',fontsize=15)\n",
    "plt.grid(color=\"gray\",alpha=0.7)\n",
    "plt.show()\n"
   ]
  },
  {
   "cell_type": "code",
   "execution_count": null,
   "metadata": {},
   "outputs": [],
   "source": []
  }
 ],
 "metadata": {
  "kernelspec": {
   "display_name": "Python 3",
   "language": "python",
   "name": "python3"
  },
  "language_info": {
   "codemirror_mode": {
    "name": "ipython",
    "version": 3
   },
   "file_extension": ".py",
   "mimetype": "text/x-python",
   "name": "python",
   "nbconvert_exporter": "python",
   "pygments_lexer": "ipython3",
   "version": "3.10.5"
  },
  "orig_nbformat": 4
 },
 "nbformat": 4,
 "nbformat_minor": 2
}
